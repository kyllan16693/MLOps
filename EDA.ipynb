{
 "cells": [
  {
   "cell_type": "markdown",
   "metadata": {},
   "source": [
    "# Exploring Sample Data"
   ]
  },
  {
   "cell_type": "code",
   "execution_count": 1,
   "metadata": {},
   "outputs": [],
   "source": [
    "import pandas as pd"
   ]
  },
  {
   "cell_type": "code",
   "execution_count": 2,
   "metadata": {},
   "outputs": [
    {
     "name": "stdout",
     "output_type": "stream",
     "text": [
      "   Unnamed: 0         x1        x2         x3         x4          y\n",
      "0           1   7.331693  9.660958  -2.981869   5.214284  -2.311878\n",
      "1           2  16.888609  9.546231  18.440459  11.804018   0.994307\n",
      "2           3   8.280643  6.442062  -0.225791   6.493211  -5.253876\n",
      "3           4   3.827778  3.741506  -2.850664  -0.226420  20.056798\n",
      "4           5   9.675971  4.385008   8.344576   5.979043   9.577914\n"
     ]
    }
   ],
   "source": [
    "regdata = pd.read_csv('data/sampregdata.csv')\n",
    "print(regdata.head())"
   ]
  },
  {
   "cell_type": "code",
   "execution_count": 3,
   "metadata": {},
   "outputs": [],
   "source": [
    "#remove the first column, since it's just an index\n",
    "regdata = regdata.drop(columns=['Unnamed: 0'])"
   ]
  },
  {
   "cell_type": "markdown",
   "metadata": {},
   "source": [
    "### Find the most important features"
   ]
  },
  {
   "cell_type": "code",
   "execution_count": 4,
   "metadata": {},
   "outputs": [
    {
     "name": "stdout",
     "output_type": "stream",
     "text": [
      "          x1        x2        x3        x4         y\n",
      "x1  1.000000  0.570945  0.737394  0.091257  0.005234\n",
      "x2  0.570945  1.000000 -0.094897 -0.032436 -0.471165\n",
      "x3  0.737394 -0.094897  1.000000  0.130451  0.432279\n",
      "x4  0.091257 -0.032436  0.130451  1.000000 -0.524394\n",
      "y   0.005234 -0.471165  0.432279 -0.524394  1.000000\n"
     ]
    }
   ],
   "source": [
    "# find most important features\n",
    "print(regdata.corr())\n"
   ]
  }
 ],
 "metadata": {
  "kernelspec": {
   "display_name": "Python 3",
   "language": "python",
   "name": "python3"
  },
  "language_info": {
   "codemirror_mode": {
    "name": "ipython",
    "version": 3
   },
   "file_extension": ".py",
   "mimetype": "text/x-python",
   "name": "python",
   "nbconvert_exporter": "python",
   "pygments_lexer": "ipython3",
   "version": "3.12.7"
  }
 },
 "nbformat": 4,
 "nbformat_minor": 2
}
